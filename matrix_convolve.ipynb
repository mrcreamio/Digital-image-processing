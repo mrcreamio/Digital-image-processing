{
 "cells": [
  {
   "cell_type": "code",
   "execution_count": 2,
   "metadata": {},
   "outputs": [],
   "source": [
    "import numpy as np\n",
    "import cv2\n",
    "import matplotlib.pyplot as plt\n",
    "%matplotlib inline"
   ]
  },
  {
   "cell_type": "code",
   "execution_count": 35,
   "metadata": {},
   "outputs": [
    {
     "ename": "error",
     "evalue": "OpenCV(4.1.1) /io/opencv/modules/imgproc/src/color.cpp:182: error: (-215:Assertion failed) !_src.empty() in function 'cvtColor'\n",
     "output_type": "error",
     "traceback": [
      "\u001b[0;31m---------------------------------------------------------------------------\u001b[0m",
      "\u001b[0;31merror\u001b[0m                                     Traceback (most recent call last)",
      "\u001b[0;32m<ipython-input-35-0ae493f59f48>\u001b[0m in \u001b[0;36m<module>\u001b[0;34m\u001b[0m\n\u001b[1;32m     28\u001b[0m \u001b[0mwhite_bars\u001b[0m \u001b[0;34m=\u001b[0m \u001b[0mcv2\u001b[0m\u001b[0;34m.\u001b[0m\u001b[0mimread\u001b[0m\u001b[0;34m(\u001b[0m\u001b[0;34m\"/home/ahmed/Downloads/dip/DIP_A1_Fall2019/adi.jog\"\u001b[0m\u001b[0;34m)\u001b[0m\u001b[0;34m\u001b[0m\u001b[0;34m\u001b[0m\u001b[0m\n\u001b[1;32m     29\u001b[0m \u001b[0;31m# white_bars = cv2.imread(\"/home/ahmed/Downloads/dip/DIP_A1_Fall2019/pollen_light.tif\")\u001b[0m\u001b[0;34m\u001b[0m\u001b[0;34m\u001b[0m\u001b[0;34m\u001b[0m\u001b[0m\n\u001b[0;32m---> 30\u001b[0;31m \u001b[0mwhite_bars\u001b[0m \u001b[0;34m=\u001b[0m \u001b[0mcv2\u001b[0m\u001b[0;34m.\u001b[0m\u001b[0mcvtColor\u001b[0m\u001b[0;34m(\u001b[0m\u001b[0mwhite_bars\u001b[0m\u001b[0;34m,\u001b[0m \u001b[0mcv2\u001b[0m\u001b[0;34m.\u001b[0m\u001b[0mCOLOR_BGR2GRAY\u001b[0m\u001b[0;34m)\u001b[0m\u001b[0;34m\u001b[0m\u001b[0;34m\u001b[0m\u001b[0m\n\u001b[0m\u001b[1;32m     31\u001b[0m \u001b[0mplt\u001b[0m\u001b[0;34m.\u001b[0m\u001b[0mimshow\u001b[0m\u001b[0;34m(\u001b[0m\u001b[0mwhite_bars\u001b[0m\u001b[0;34m,\u001b[0m\u001b[0mcmap\u001b[0m\u001b[0;34m=\u001b[0m\u001b[0;34m\"gray\"\u001b[0m\u001b[0;34m)\u001b[0m\u001b[0;34m\u001b[0m\u001b[0;34m\u001b[0m\u001b[0m\n\u001b[1;32m     32\u001b[0m \u001b[0mplt\u001b[0m\u001b[0;34m.\u001b[0m\u001b[0mshow\u001b[0m\u001b[0;34m(\u001b[0m\u001b[0;34m)\u001b[0m\u001b[0;34m\u001b[0m\u001b[0;34m\u001b[0m\u001b[0m\n",
      "\u001b[0;31merror\u001b[0m: OpenCV(4.1.1) /io/opencv/modules/imgproc/src/color.cpp:182: error: (-215:Assertion failed) !_src.empty() in function 'cvtColor'\n"
     ]
    }
   ],
   "source": [
    "def matrix_convolve2(image,kernel,a,b,mul):\n",
    "    print(kernel)\n",
    "    img_x, img_y = image.shape\n",
    "    kernl_x, kernl_y = kernel.shape\n",
    "    \n",
    "    result = image\n",
    "    for i in range(img_x-int(len(kernel)/2)):\n",
    "        for j in range(img_y-int(len(kernel)/2)):\n",
    "            result[i][j] = 0\n",
    "            summ = 0\n",
    "            for s in range(-a,a+1):\n",
    "                for t in range(-b,b+1):\n",
    "                    summ += kernel[s,t] * image[i+s,j+t]\n",
    "            result[i][j] = mul*summ\n",
    "                \n",
    "    return result\n",
    "def histogram(img):\n",
    "    plt.hist(img.ravel(),256,[0,256]) \n",
    "    plt.plot\n",
    "    plt.show()\n",
    "    \n",
    "                \n",
    "                \n",
    "    \n",
    "    \n",
    "    \n",
    "\n",
    "white_bars = cv2.imread(\"/home/ahmed/Downloads/dip/DIP_A1_Fall2019/adi.jog\")\n",
    "# white_bars = cv2.imread(\"/home/ahmed/Downloads/dip/DIP_A1_Fall2019/pollen_light.tif\")\n",
    "white_bars = cv2.cvtColor(white_bars, cv2.COLOR_BGR2GRAY)\n",
    "plt.imshow(white_bars,cmap=\"gray\")\n",
    "plt.show()\n",
    "image  = white_bars\n",
    "array1 = [1,1,1]\n",
    "array2 = [1,1,1]\n",
    "array3 = [1,1,1]\n",
    "# array1 = [1,2,3]\n",
    "# array2 = [4,5,6]\n",
    "# array3 = [7,8,9]\n",
    "# average filter\n",
    "# array1 = [1,1,1,1,1]\n",
    "# array2 = [1,1,1,1,1]\n",
    "# array3 = [1,1,1,1,1]\n",
    "# array4 = [1,1,1,1,1]\n",
    "# array5 = [1,1,1,1,1]\n",
    "# 11x11\n",
    "# array1 = [1,1,1,1,1,1,1,1,1,1,1]\n",
    "# array2 = [1,1,1,1,1,1,1,1,1,1,1]\n",
    "# array3 = [1,1,1,1,1,1,1,1,1,1,1]\n",
    "# array4 = [1,1,1,1,1,1,1,1,1,1,1]\n",
    "# array5 = [1,1,1,1,1,1,1,1,1,1,1]\n",
    "# array6 = [1,1,1,1,1,1,1,1,1,1,1]\n",
    "# array7 = [1,1,1,1,1,1,1,1,1,1,1]\n",
    "# array8 = [1,1,1,1,1,1,1,1,1,1,1]\n",
    "# array9 = [1,1,1,1,1,1,1,1,1,1,1]\n",
    "# array10 = [1,1,1,1,1,1,1,1,1,1,1]\n",
    "# array11 = [1,1,1,1,1,1,1,1,1,1,1]\n",
    "\n",
    "# array1 = [1,1,1,1,1,1,1,1,1,1,1,1,1,1,1]\n",
    "# array2 = [1,1,1,1,1,1,1,1,1,1,1,1,1,1,1]\n",
    "# array3 = [1,1,1,1,1,1,1,1,1,1,1,1,1,1,1]\n",
    "# array4 = [1,1,1,1,1,1,1,1,1,1,1,1,1,1,1]\n",
    "# array5 = [1,1,1,1,1,1,1,1,1,1,1,1,1,1,1]\n",
    "# array6 = [1,1,1,1,1,1,1,1,1,1,1,1,1,1,1]\n",
    "# array7 = [1,1,1,1,1,1,1,1,1,1,1,1,1,1,1]\n",
    "# array8 = [1,1,1,1,1,1,1,1,1,1,1,1,1,1,1]\n",
    "# array9 = [1,1,1,1,1,1,1,1,1,1,1,1,1,1,1]\n",
    "# array10 = [1,1,1,1,1,1,1,1,1,1,1,1,1,1,1]\n",
    "# array11 = [1,1,1,1,1,1,1,1,1,1,1,1,1,1,1]\n",
    "# array12 = [1,1,1,1,1,1,1,1,1,1,1,1,1,1,1]\n",
    "# array13 = [1,1,1,1,1,1,1,1,1,1,1,1,1,1,1]\n",
    "# array14 = [1,1,1,1,1,1,1,1,1,1,1,1,1,1,1]\n",
    "# array15 = [1,1,1,1,1,1,1,1,1,1,1,1,1,1,1]\n",
    "# matrix1 = [[1,2,3],[4,5,6],[7,8,9]]\n",
    "# kernal = np.matrix([array1,array2,array3,array4,array5,array6,array7,array8,array9,array10,array11])\n",
    "# kernal = np.matrix([array1,array2,array3,array4,array5])\n",
    "# kernal = np.matrix([array1,array2,array3,array4,array5,array6,array7,array8,array9,array10,array11,array12,array13,array14,array15])\n",
    "kernal = np.array([array1,array2,array3])\n",
    "# print(kernal1)\n",
    "# print(kernal1[1,1,1])\n",
    "\n",
    "a = 1\n",
    "b = 1\n",
    "# print('kernal ',kernal[1,1])\n",
    "result = matrix_convolve2(image,kernal,a,b,(1/9))\n",
    "plt.imshow(result.astype(np.uint8),cmap='gray')\n",
    "plt.show()\n",
    "histogram(white_bars)\n",
    "histogram(result)\n",
    "# result = matrix_convolve2(image,(1/100)*kernal1)\n",
    "# plt.imshow(result.astype(np.uint8))\n",
    "# plt.show()\n",
    "# result = matrix_convolve2(image,(1/1000)*kernal1)\n",
    "# plt.imshow(result.astype(np.uint8))\n",
    "# plt.show()\n",
    "# result = matrix_convolve2(image,kernal1)\n",
    "# plt.imshow(result.astype(np.uint8))\n",
    "# plt.show()\n"
   ]
  },
  {
   "cell_type": "code",
   "execution_count": null,
   "metadata": {},
   "outputs": [],
   "source": [
    "# Create 2 new lists height and weight\n",
    "height = [1.87,  1.87, 1.82, 1.91, 1.90, 1.85]\n",
    "weight = [81.65, 97.52, 95.25, 92.98, 86.18, 88.45]\n",
    "\n",
    "# Import the numpy package as np\n",
    "import numpy as np\n",
    "\n",
    "# Create 2 numpy arrays from height and weight\n",
    "np_height = np.array(height)\n",
    "np_weight = np.array(weight)"
   ]
  },
  {
   "cell_type": "code",
   "execution_count": null,
   "metadata": {},
   "outputs": [],
   "source": [
    "print(np_height)"
   ]
  },
  {
   "cell_type": "code",
   "execution_count": null,
   "metadata": {},
   "outputs": [],
   "source": [
    "x = np.arange(10)"
   ]
  },
  {
   "cell_type": "code",
   "execution_count": 76,
   "metadata": {},
   "outputs": [
    {
     "name": "stdout",
     "output_type": "stream",
     "text": [
      "[0 1 2 3 4 5 6 7 8 9]\n"
     ]
    }
   ],
   "source": [
    "print(x)"
   ]
  },
  {
   "cell_type": "code",
   "execution_count": 78,
   "metadata": {},
   "outputs": [
    {
     "name": "stdout",
     "output_type": "stream",
     "text": [
      "[8 9 0 1 2 3 4 5 6 7]\n"
     ]
    }
   ],
   "source": [
    "print(np.roll(x,2))"
   ]
  },
  {
   "cell_type": "code",
   "execution_count": 93,
   "metadata": {},
   "outputs": [
    {
     "data": {
      "text/plain": [
       "0"
      ]
     },
     "execution_count": 93,
     "metadata": {},
     "output_type": "execute_result"
    }
   ],
   "source": [
    "white_bars = cv2.imread(\"/home/ahmed/Downloads/dip/DIP_A1_Fall2019/White-Bars.png\")\n",
    "white_bars = cv2.cvtColor(white_bars, cv2.COLOR_BGR2GRAY)\n",
    "white_bars[1][1]"
   ]
  },
  {
   "cell_type": "code",
   "execution_count": 30,
   "metadata": {},
   "outputs": [],
   "source": [
    "import statistics\n",
    "def matrix_convolve2(image,kernel,a,b,mul):\n",
    "    img_x, img_y = image.shape\n",
    "    kernl_x, kernl_y = kernel.shape\n",
    "    \n",
    "    result = image\n",
    "    for i in range(img_x-int(len(kernel)/2)):\n",
    "        for j in range(img_y-int(len(kernel)/2)):\n",
    "            result[i][j] = 0\n",
    "            listA = []\n",
    "            for s in range(-a,a+1):\n",
    "                for t in range(-b,b+1):\n",
    "                    listA.append(image[i+s,j+t])\n",
    "            num = min(listA)\n",
    "            result[i][j] = num\n",
    "                \n",
    "    return result\n"
   ]
  },
  {
   "cell_type": "code",
   "execution_count": 31,
   "metadata": {},
   "outputs": [
    {
     "data": {
      "image/png": "[encoded data removed]",
      "text/plain": [
       "<Figure size 432x288 with 1 Axes>"
      ]
     },
     "metadata": {
      "needs_background": "light"
     },
     "output_type": "display_data"
    }
   ],
   "source": [
    "array1 = [1,1,1]\n",
    "array2 = [1,1,1]\n",
    "array3 = [1,1,1]\n",
    "kernal = np.array([array1,array2,array3])\n",
    "# array1 = [1,1,1,1,1,1,1,1,1,1,1]\n",
    "# array2 = [1,1,1,1,1,1,1,1,1,1,1]\n",
    "# array3 = [1,1,1,1,1,1,1,1,1,1,1]\n",
    "# array4 = [1,1,1,1,1,1,1,1,1,1,1]\n",
    "# array5 = [1,1,1,1,1,1,1,1,1,1,1]\n",
    "# array6 = [1,1,1,1,1,1,1,1,1,1,1]\n",
    "# array7 = [1,1,1,1,1,1,1,1,1,1,1]\n",
    "# array8 = [1,1,1,1,1,1,1,1,1,1,1]\n",
    "# array9 = [1,1,1,1,1,1,1,1,1,1,1]\n",
    "# array10 = [1,1,1,1,1,1,1,1,1,1,1]\n",
    "# array11 = [1,1,1,1,1,1,1,1,1,1,1]\n",
    "# kernal = np.matrix([array1,array2,array3,array4,array5,array6,array7,array8,array9,array10,array11])\n",
    "white_bars = cv2.imread(\"/home/ahmed/Downloads/dip/DIP_A1_Fall2019/saltandpepper.jpeg\")\n",
    "white_bars = cv2.cvtColor(white_bars, cv2.COLOR_BGR2GRAY)\n",
    "result = matrix_convolve2(image,kernal,1,1,(1/121))\n",
    "plt.imshow(result.astype(np.uint8),cmap='gray')\n",
    "plt.show()"
   ]
  },
  {
   "cell_type": "code",
   "execution_count": 6,
   "metadata": {},
   "outputs": [],
   "source": [
    "array1 = [1,2,3]\n",
    "array2 = [2,3,2]\n",
    "array3 = [1,2,1]\n",
    "kernal = np.array([array1,array2,array3])"
   ]
  },
  {
   "cell_type": "code",
   "execution_count": 13,
   "metadata": {},
   "outputs": [
    {
     "data": {
      "text/plain": [
       "3"
      ]
     },
     "execution_count": 13,
     "metadata": {},
     "output_type": "execute_result"
    }
   ],
   "source": [
    "kernal[0][2]"
   ]
  },
  {
   "cell_type": "code",
   "execution_count": null,
   "metadata": {},
   "outputs": [],
   "source": []
  }
 ],
 "metadata": {
  "kernelspec": {
   "display_name": "Python 3",
   "language": "python",
   "name": "python3"
  },
  "language_info": {
   "codemirror_mode": {
    "name": "ipython",
    "version": 3
   },
   "file_extension": ".py",
   "mimetype": "text/x-python",
   "name": "python",
   "nbconvert_exporter": "python",
   "pygments_lexer": "ipython3",
   "version": "3.6.8"
  }
 },
 "nbformat": 4,
 "nbformat_minor": 2
}
