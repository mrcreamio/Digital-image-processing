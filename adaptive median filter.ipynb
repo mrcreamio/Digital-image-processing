{
 "cells": [
  {
   "cell_type": "code",
   "execution_count": 3,
   "metadata": {},
   "outputs": [],
   "source": [
    "import numpy as np\n",
    "import cv2\n",
    "import matplotlib.pyplot as plt\n",
    "%matplotlib inline\n",
    "import copy\n",
    "import math\n",
    "from statistics import median"
   ]
  },
  {
   "cell_type": "code",
   "execution_count": 10,
   "metadata": {},
   "outputs": [],
   "source": [
    "def matrix_convolve2(image,kernel,a,b,mul):\n",
    "    print(kernel)\n",
    "    img_x, img_y = image.shape\n",
    "    print(image.shape)\n",
    "    kernl_x, kernl_y = kernel.shape\n",
    "    print(int(len(kernal)/2))\n",
    "    result = copy.deepcopy(image)\n",
    "    print(image[1,1])\n",
    "    \n",
    "    zMed = 0\n",
    "    zMin = 0\n",
    "    zMax = 0\n",
    "    A1 = 0\n",
    "    A2 = 0\n",
    "    B1 = 0\n",
    "    B2 = 0\n",
    "    Zxy = 0\n",
    "    for i in range(1,(img_x-1)-int(len(kernel)/2)):\n",
    "        for j in range(1,(img_y-1)-int(len(kernel)/2)):\n",
    "            array = []\n",
    "            for s in range(-a,a+1):\n",
    "                for t in range(-b,b+1):\n",
    "                    array.append(image[i+s,j+t])\n",
    "                    \n",
    "                    \n",
    "            zMed = median(array)\n",
    "            zMin = min(array)\n",
    "            zMax = max(array)\n",
    "            \n",
    "            A1 = zMed - zMin\n",
    "            A2 = zMed -zMax\n",
    "            if(A1 > 0 and A2 < 0):\n",
    "                B1 = Zxy - zMin\n",
    "                B2 = Zxy -zMax\n",
    "                if(B1 > 0 and B2 < 0):\n",
    "                    result[i,j] = Zxy\n",
    "                else:\n",
    "                    result[i,j] = zMed\n",
    "            else:\n",
    "                if(kernl_x < 6):\n",
    "                    kernl_x += 2\n",
    "                    kernl_y += 2\n",
    "                    result[i,j] = zMed\n",
    "                else:\n",
    "                    result[i,j] = zMed\n",
    "                    \n",
    "                    \n",
    "            \n",
    "            \n",
    "                    \n",
    "                \n",
    "                \n",
    "    return result\n",
    "def histogram(img):\n",
    "    plt.hist(img.ravel(),256,[0,256]) \n",
    "    plt.plot\n",
    "    plt.show()\n",
    "\n",
    "    "
   ]
  },
  {
   "cell_type": "code",
   "execution_count": 13,
   "metadata": {},
   "outputs": [
    {
     "data": {
      "image/png": "[encoded data removed]",
      "text/plain": [
       "<Figure size 432x288 with 1 Axes>"
      ]
     },
     "metadata": {
      "needs_background": "light"
     },
     "output_type": "display_data"
    },
    {
     "data": {
      "image/png": "[encoded data removed]",
      "text/plain": [
       "<Figure size 432x288 with 1 Axes>"
      ]
     },
     "metadata": {
      "needs_background": "light"
     },
     "output_type": "display_data"
    },
    {
     "name": "stdout",
     "output_type": "stream",
     "text": [
      "[[0 0 0 ... 0 0 0]\n",
      " [0 0 0 ... 0 0 0]\n",
      " [0 0 0 ... 0 0 0]\n",
      " ...\n",
      " [0 0 0 ... 0 0 0]\n",
      " [0 0 0 ... 0 0 0]\n",
      " [0 0 0 ... 0 0 0]]\n",
      "[[1 2 1]\n",
      " [2 3 2]\n",
      " [1 2 1]]\n",
      "(589, 590)\n",
      "1\n",
      "0\n"
     ]
    },
    {
     "name": "stderr",
     "output_type": "stream",
     "text": [
      "/home/ahmed/anaconda3/envs/env/lib/python3.6/site-packages/ipykernel_launcher.py:31: RuntimeWarning: overflow encountered in ubyte_scalars\n"
     ]
    },
    {
     "data": {
      "image/png": "[encoded data removed]",
      "text/plain": [
       "<Figure size 432x288 with 1 Axes>"
      ]
     },
     "metadata": {
      "needs_background": "light"
     },
     "output_type": "display_data"
    },
    {
     "data": {
      "image/png": "[encoded data removed]",
      "text/plain": [
       "<Figure size 432x288 with 1 Axes>"
      ]
     },
     "metadata": {
      "needs_background": "light"
     },
     "output_type": "display_data"
    }
   ],
   "source": [
    "array1 = [1,2,1]\n",
    "array2 = [2,3,2]\n",
    "array3 = [1,2,1]\n",
    "kernal = np.array([array1,array2,array3])\n",
    "a = 1\n",
    "b = 1\n",
    "\n",
    "\n",
    "\n",
    "# array1 = [1,2,3,4,5]\n",
    "# array2 = [6,7,8,9,10]\n",
    "# array3 = [11,12,13,14,15]\n",
    "# array4 = [16,17,18,19,20]\n",
    "# array5 = [21,22,23,24,25]\n",
    "# a = 2\n",
    "# b = 2\n",
    "\n",
    "# kernal = np.matrix([array1,array2,array3,array4,array5])\n",
    "# histogram(white_bars)\n",
    "\n",
    "\n",
    "\n",
    "\n",
    "\n",
    "white_bars = cv2.imread(\"/home/ahmed/Downloads/dip/DIP_A2_Fall2019/White-Bars.png\")\n",
    "white_bars = cv2.cvtColor(white_bars, cv2.COLOR_BGR2GRAY)\n",
    "plt.imshow(white_bars,cmap=\"gray\")\n",
    "plt.show()\n",
    "histogram(white_bars)\n",
    "print(white_bars)\n",
    "a = 1\n",
    "b = 1\n",
    "result = matrix_convolve2(white_bars,kernal,a,b,(-1))\n",
    "\n",
    "plt.imshow(result.astype(np.uint8),cmap='gray')\n",
    "plt.show()\n",
    "# histogram(white_bars)\n",
    "histogram(result)"
   ]
  },
  {
   "cell_type": "code",
   "execution_count": null,
   "metadata": {},
   "outputs": [],
   "source": []
  }
 ],
 "metadata": {
  "kernelspec": {
   "display_name": "Python 3",
   "language": "python",
   "name": "python3"
  },
  "language_info": {
   "codemirror_mode": {
    "name": "ipython",
    "version": 3
   },
   "file_extension": ".py",
   "mimetype": "text/x-python",
   "name": "python",
   "nbconvert_exporter": "python",
   "pygments_lexer": "ipython3",
   "version": "3.6.8"
  }
 },
 "nbformat": 4,
 "nbformat_minor": 2
}
