{
 "cells": [
  {
   "cell_type": "code",
   "execution_count": 1,
   "metadata": {},
   "outputs": [],
   "source": [
    "import numpy as np\n",
    "import cv2\n",
    "import matplotlib.pyplot as plt\n",
    "%matplotlib inline\n",
    "import copy\n",
    "import math"
   ]
  },
  {
   "cell_type": "code",
   "execution_count": 66,
   "metadata": {},
   "outputs": [],
   "source": [
    "def matrix_convolve2(image,kernel,a,b,mul):\n",
    "    print(kernel)\n",
    "    img_x, img_y = image.shape\n",
    "    print(image.shape)\n",
    "    kernl_x, kernl_y = kernel.shape\n",
    "    print(int(len(kernal)/2))\n",
    "    result = copy.deepcopy(image)\n",
    "    print(image[1,1])\n",
    "    for i in range(1,(img_x-1)-int(len(kernel)/2)):\n",
    "        for j in range(1,(img_y-1)-int(len(kernel)/2)):\n",
    "            array = []\n",
    "#             print(i,j)\n",
    "\n",
    "            summ = 0\n",
    "            umm = 0\n",
    "            for s in range(-a,a+1):\n",
    "                \n",
    "                for t in range(-b,b+1):\n",
    "#                     print(\"i = \",i,\" j = \",j,i+s, j+t)\n",
    "#                     array.append(image[i+s,j+t])\n",
    "                    if(math.isnan(image[i+s,j+t])):\n",
    "                        pass\n",
    "                    else:\n",
    "                        summ += int(np.float_power(image[i+s,j+t],(mul+1)))\n",
    "                    \n",
    "                        umm += round((np.float_power(image[i+s,j+t],mul)),2)\n",
    "                      \n",
    "            \n",
    "#             print(array)\n",
    "#                 print(summ**mul)\n",
    "            \n",
    "            if(umm != 0):\n",
    "                result[i,j] = int(summ/(umm))\n",
    "            else:\n",
    "                result[i,j] = int(summ/(0.1))\n",
    "                \n",
    "                \n",
    "    return result\n",
    "def histogram(img):\n",
    "    plt.hist(img.ravel(),256,[0,256]) \n",
    "    plt.plot\n",
    "    plt.show()\n",
    "\n",
    "    "
   ]
  },
  {
   "cell_type": "code",
   "execution_count": 68,
   "metadata": {},
   "outputs": [
    {
     "data": {
      "image/png": "[encoded data removed]",
      "text/plain": [
       "<Figure size 432x288 with 1 Axes>"
      ]
     },
     "metadata": {
      "needs_background": "light"
     },
     "output_type": "display_data"
    },
    {
     "data": {
      "image/png": "[encoded data removed]",
      "text/plain": [
       "<Figure size 432x288 with 1 Axes>"
      ]
     },
     "metadata": {
      "needs_background": "light"
     },
     "output_type": "display_data"
    },
    {
     "name": "stdout",
     "output_type": "stream",
     "text": [
      "[[0 0 0 ... 0 0 0]\n",
      " [0 0 0 ... 0 0 0]\n",
      " [0 0 0 ... 0 0 0]\n",
      " ...\n",
      " [0 0 0 ... 0 0 0]\n",
      " [0 0 0 ... 0 0 0]\n",
      " [0 0 0 ... 0 0 0]]\n",
      "[[ 1  2  3  4  5]\n",
      " [ 6  7  8  9 10]\n",
      " [11 12 13 14 15]\n",
      " [16 17 18 19 20]\n",
      " [21 22 23 24 25]]\n",
      "(589, 590)\n",
      "2\n",
      "0\n"
     ]
    },
    {
     "name": "stderr",
     "output_type": "stream",
     "text": [
      "/home/ahmed/anaconda3/envs/env/lib/python3.6/site-packages/ipykernel_launcher.py:26: RuntimeWarning: divide by zero encountered in float_power\n"
     ]
    },
    {
     "data": {
      "image/png": "[encoded data removed]",
      "text/plain": [
       "<Figure size 432x288 with 1 Axes>"
      ]
     },
     "metadata": {
      "needs_background": "light"
     },
     "output_type": "display_data"
    },
    {
     "data": {
      "image/png": "[encoded data removed]",
      "text/plain": [
       "<Figure size 432x288 with 1 Axes>"
      ]
     },
     "metadata": {
      "needs_background": "light"
     },
     "output_type": "display_data"
    }
   ],
   "source": [
    "# array1 = [1,2,1]\n",
    "# array2 = [2,3,2]\n",
    "# array3 = [1,2,1]\n",
    "# kernal = np.array([array1,array2,array3])\n",
    "\n",
    "\n",
    "\n",
    "\n",
    "array1 = [1,2,3,4,5]\n",
    "array2 = [6,7,8,9,10]\n",
    "array3 = [11,12,13,14,15]\n",
    "array4 = [16,17,18,19,20]\n",
    "array5 = [21,22,23,24,25]\n",
    "\n",
    "kernal = np.matrix([array1,array2,array3,array4,array5])\n",
    "# histogram(white_bars)\n",
    "\n",
    "\n",
    "\n",
    "\n",
    "\n",
    "white_bars = cv2.imread(\"/home/ahmed/Downloads/dip/DIP_A2_Fall2019/White-Bars.png\")\n",
    "white_bars = cv2.cvtColor(white_bars, cv2.COLOR_BGR2GRAY)\n",
    "plt.imshow(white_bars,cmap=\"gray\")\n",
    "plt.show()\n",
    "histogram(white_bars)\n",
    "print(white_bars)\n",
    "a = 1\n",
    "b = 1\n",
    "result = matrix_convolve2(white_bars,kernal,a,b,(-1))\n",
    "\n",
    "plt.imshow(result.astype(np.uint8),cmap='gray')\n",
    "plt.show()\n",
    "# histogram(white_bars)\n",
    "histogram(result)"
   ]
  },
  {
   "cell_type": "code",
   "execution_count": 25,
   "metadata": {},
   "outputs": [
    {
     "data": {
      "text/plain": [
       "0"
      ]
     },
     "execution_count": 25,
     "metadata": {},
     "output_type": "execute_result"
    }
   ],
   "source": [
    "0**2"
   ]
  },
  {
   "cell_type": "code",
   "execution_count": 26,
   "metadata": {},
   "outputs": [
    {
     "ename": "ZeroDivisionError",
     "evalue": "division by zero",
     "output_type": "error",
     "traceback": [
      "\u001b[0;31m---------------------------------------------------------------------------\u001b[0m",
      "\u001b[0;31mZeroDivisionError\u001b[0m                         Traceback (most recent call last)",
      "\u001b[0;32m<ipython-input-26-9e1622b385b6>\u001b[0m in \u001b[0;36m<module>\u001b[0;34m\u001b[0m\n\u001b[0;32m----> 1\u001b[0;31m \u001b[0;36m1\u001b[0m\u001b[0;34m/\u001b[0m\u001b[0;36m0\u001b[0m\u001b[0;34m\u001b[0m\u001b[0;34m\u001b[0m\u001b[0m\n\u001b[0m",
      "\u001b[0;31mZeroDivisionError\u001b[0m: division by zero"
     ]
    }
   ],
   "source": [
    "1/0"
   ]
  },
  {
   "cell_type": "code",
   "execution_count": 24,
   "metadata": {},
   "outputs": [
    {
     "data": {
      "text/plain": [
       "0.012345679012345678"
      ]
     },
     "execution_count": 24,
     "metadata": {},
     "output_type": "execute_result"
    }
   ],
   "source": [
    "9**-2"
   ]
  },
  {
   "cell_type": "code",
   "execution_count": 77,
   "metadata": {},
   "outputs": [
    {
     "ename": "SyntaxError",
     "evalue": "invalid syntax (<ipython-input-77-281bb1d29192>, line 1)",
     "output_type": "error",
     "traceback": [
      "\u001b[0;36m  File \u001b[0;32m\"<ipython-input-77-281bb1d29192>\"\u001b[0;36m, line \u001b[0;32m1\u001b[0m\n\u001b[0;31m    goto a;\u001b[0m\n\u001b[0m         ^\u001b[0m\n\u001b[0;31mSyntaxError\u001b[0m\u001b[0;31m:\u001b[0m invalid syntax\n"
     ]
    }
   ],
   "source": []
  },
  {
   "cell_type": "code",
   "execution_count": null,
   "metadata": {},
   "outputs": [],
   "source": [
    "label:\n",
    ".\n",
    ".\n",
    ".\n",
    "goto label;"
   ]
  }
 ],
 "metadata": {
  "kernelspec": {
   "display_name": "Python 3",
   "language": "python",
   "name": "python3"
  },
  "language_info": {
   "codemirror_mode": {
    "name": "ipython",
    "version": 3
   },
   "file_extension": ".py",
   "mimetype": "text/x-python",
   "name": "python",
   "nbconvert_exporter": "python",
   "pygments_lexer": "ipython3",
   "version": "3.6.8"
  }
 },
 "nbformat": 4,
 "nbformat_minor": 2
}
