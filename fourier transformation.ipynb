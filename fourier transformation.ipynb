{
 "cells": [
  {
   "cell_type": "code",
   "execution_count": 100,
   "metadata": {},
   "outputs": [],
   "source": [
    "import numpy as np\n",
    "import cv2\n",
    "import matplotlib.pyplot as plt\n",
    "%matplotlib inline\n",
    "import copy\n",
    "import math\n",
    "from tkinter import *"
   ]
  },
  {
   "cell_type": "code",
   "execution_count": 101,
   "metadata": {},
   "outputs": [],
   "source": [
    "def fourier(image):\n",
    "    imgL = image.tolist()\n",
    "    img_x, img_y = image.shape\n",
    "    result = copy.deepcopy(image)\n",
    "    \n",
    "    for i in range(img_x):\n",
    "        for j in range(img_y):\n",
    "            list = []\n",
    "#             print(i,j)\n",
    "            for x in range(img_x):\n",
    "                for y in range(img_y):\n",
    "                    if(x == 0 and y == 0 and image[x,y] == 0):\n",
    "                        eVal = 0\n",
    "                    else:\n",
    "                        eVal = np.exp(-1j*2*math.pi*(((i*x)/img_x)+((j*y)/img_y)))\n",
    "                    list.append(image[x,y] * eVal)\n",
    "#             print(list)\n",
    "            val = round(sum(list))\n",
    "            res = pow(pow(val.real,2)+pow(val.imag,2),1/2)\n",
    "#             print(\"res\",res)\n",
    "            result[i,j] = res\n",
    "    print(result)\n",
    "    return result\n"
   ]
  },
  {
   "cell_type": "code",
   "execution_count": 116,
   "metadata": {},
   "outputs": [
    {
     "name": "stdout",
     "output_type": "stream",
     "text": [
      "input\n",
      "[[3 2 2]\n",
      " [1 1 1]\n",
      " [1 2 1]]\n",
      "output\n",
      "[[14  1  1]\n",
      " [ 3  2  1]\n",
      " [ 4  1  2]]\n"
     ]
    }
   ],
   "source": [
    "array1 = [3,2,2]\n",
    "array2 = [1,1,1]\n",
    "array3 = [1,2,1]\n",
    "kernal = np.array([array1,array2,array3])\n",
    "print(\"input\")\n",
    "print(kernal)\n",
    "print(\"output\")\n",
    "# white_bars = cv2.imread(\"/home/ahmed/Downloads/dip/DIP_A1_Fall2019/White-Bars_resized.png\")\n",
    "# kernal = cv2.cvtColor(kernal, cv2.COLOR_BGR2GRAY)\n",
    "result = fourier(kernal)"
   ]
  },
  {
   "cell_type": "code",
   "execution_count": 73,
   "metadata": {},
   "outputs": [
    {
     "data": {
      "text/plain": [
       "1.0"
      ]
     },
     "execution_count": 73,
     "metadata": {},
     "output_type": "execute_result"
    }
   ],
   "source": [
    "round(3*np.exp(math.cos(160)))"
   ]
  },
  {
   "cell_type": "code",
   "execution_count": 98,
   "metadata": {},
   "outputs": [
    {
     "data": {
      "text/plain": [
       "<matplotlib.image.AxesImage at 0x7fd3a572b748>"
      ]
     },
     "execution_count": 98,
     "metadata": {},
     "output_type": "execute_result"
    },
    {
     "data": {
      "image/png": "[encoded data removed]",
      "text/plain": [
       "<Figure size 432x288 with 1 Axes>"
      ]
     },
     "metadata": {
      "needs_background": "light"
     },
     "output_type": "display_data"
    }
   ],
   "source": [
    "# result = np.uint8(np.log1p(result))\n",
    "# thresh = 1\n",
    "# img = cv2.threshold(result,thresh,255,cv2.THRESH_BINARY)[1]\n",
    "plt.imshow(result)"
   ]
  },
  {
   "cell_type": "code",
   "execution_count": 111,
   "metadata": {},
   "outputs": [],
   "source": [
    "def inverse_fourier(image):\n",
    "    imgL = image.tolist()\n",
    "    img_x, img_y = image.shape\n",
    "    result = copy.deepcopy(image)\n",
    "    \n",
    "    for i in range(img_x):\n",
    "        for j in range(img_y):\n",
    "            list = []\n",
    "#             print(i,j)\n",
    "            for x in range(img_x):\n",
    "                for y in range(img_y):\n",
    "                    if(x == 0 and y == 0 and image[x,y] == 0):\n",
    "                        eVal = 0\n",
    "                    else:\n",
    "                        eVal = np.exp(1j*2*math.pi*(((i*x)/img_x)+((j*y)/img_y)))\n",
    "                    list.append(image[x,y] * eVal)\n",
    "#             print(list)\n",
    "            val = round(sum(list))\n",
    "            res = round(1/(img_x*img_y)*pow(pow(val.real,2)+pow(val.imag,2),1/2))\n",
    "#             print(\"res\",res)\n",
    "            result[i,j] = res\n",
    "    return result\n"
   ]
  },
  {
   "cell_type": "code",
   "execution_count": 117,
   "metadata": {},
   "outputs": [
    {
     "name": "stdout",
     "output_type": "stream",
     "text": [
      "after inverse\n"
     ]
    },
    {
     "data": {
      "text/plain": [
       "array([[3, 2, 2],\n",
       "       [1, 1, 1],\n",
       "       [1, 1, 1]])"
      ]
     },
     "execution_count": 117,
     "metadata": {},
     "output_type": "execute_result"
    }
   ],
   "source": [
    "print(\"after inverse\")\n",
    "inverse_fourier(result)"
   ]
  },
  {
   "cell_type": "code",
   "execution_count": null,
   "metadata": {},
   "outputs": [],
   "source": []
  }
 ],
 "metadata": {
  "kernelspec": {
   "display_name": "Python 3",
   "language": "python",
   "name": "python3"
  },
  "language_info": {
   "codemirror_mode": {
    "name": "ipython",
    "version": 3
   },
   "file_extension": ".py",
   "mimetype": "text/x-python",
   "name": "python",
   "nbconvert_exporter": "python",
   "pygments_lexer": "ipython3",
   "version": "3.6.8"
  }
 },
 "nbformat": 4,
 "nbformat_minor": 2
}
