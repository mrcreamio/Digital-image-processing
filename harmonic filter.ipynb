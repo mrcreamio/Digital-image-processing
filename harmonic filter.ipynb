{
 "cells": [
  {
   "cell_type": "code",
   "execution_count": 1,
   "metadata": {},
   "outputs": [],
   "source": [
    "import numpy as np\n",
    "import cv2\n",
    "import matplotlib.pyplot as plt\n",
    "%matplotlib inline\n",
    "import copy\n",
    "import math"
   ]
  },
  {
   "cell_type": "code",
   "execution_count": 2,
   "metadata": {},
   "outputs": [],
   "source": [
    "def matrix_convolve2(image,kernel,a,b,mul):\n",
    "    print(kernel)\n",
    "    img_x, img_y = image.shape\n",
    "    print(image.shape)\n",
    "    kernl_x, kernl_y = kernel.shape\n",
    "    print(int(len(kernal)/2))\n",
    "    result = copy.deepcopy(image)\n",
    "    print(image[1,1])\n",
    "    for i in range(1,(img_x-1)-int(len(kernel)/2)):\n",
    "        for j in range(1,(img_y-1)-int(len(kernel)/2)):\n",
    "            array = []\n",
    "#             print(i,j)\n",
    "            summ = 0\n",
    "            \n",
    "            for s in range(-a,a+1):\n",
    "                \n",
    "                for t in range(-b,b+1):\n",
    "#                     print(\"i = \",i,\" j = \",j,i+s, j+t)\n",
    "                    array.append(image[i+s,j+t])\n",
    "                    if(math.isnan(image[i+s,j+t])):\n",
    "                        pass\n",
    "                    else:\n",
    "                        summ += 1/image[i+s,j+t]\n",
    "            \n",
    "#             print(array)\n",
    "#                 print(summ**mul)\n",
    "            if(summ != 0):\n",
    "                result[i,j] = int(mul/(summ))\n",
    "            else:\n",
    "                result[i,j] = 0\n",
    "                \n",
    "    return result\n",
    "def histogram(img):\n",
    "    plt.hist(img.ravel(),256,[0,256]) \n",
    "    plt.plot\n",
    "    plt.show()\n",
    "\n",
    "    "
   ]
  },
  {
   "cell_type": "code",
   "execution_count": 3,
   "metadata": {},
   "outputs": [
    {
     "ename": "error",
     "evalue": "OpenCV(4.1.1) /io/opencv/modules/imgproc/src/color.cpp:182: error: (-215:Assertion failed) !_src.empty() in function 'cvtColor'\n",
     "output_type": "error",
     "traceback": [
      "\u001b[0;31m---------------------------------------------------------------------------\u001b[0m",
      "\u001b[0;31merror\u001b[0m                                     Traceback (most recent call last)",
      "\u001b[0;32m<ipython-input-3-6fdb692e994c>\u001b[0m in \u001b[0;36m<module>\u001b[0;34m\u001b[0m\n\u001b[1;32m     21\u001b[0m \u001b[0;34m\u001b[0m\u001b[0m\n\u001b[1;32m     22\u001b[0m \u001b[0mwhite_bars\u001b[0m \u001b[0;34m=\u001b[0m \u001b[0mcv2\u001b[0m\u001b[0;34m.\u001b[0m\u001b[0mimread\u001b[0m\u001b[0;34m(\u001b[0m\u001b[0;34m\"/home/ahmed/Downloads/dip/DIP_A2_Fall2019/White-Bars.png\"\u001b[0m\u001b[0;34m)\u001b[0m\u001b[0;34m\u001b[0m\u001b[0;34m\u001b[0m\u001b[0m\n\u001b[0;32m---> 23\u001b[0;31m \u001b[0mwhite_bars\u001b[0m \u001b[0;34m=\u001b[0m \u001b[0mcv2\u001b[0m\u001b[0;34m.\u001b[0m\u001b[0mcvtColor\u001b[0m\u001b[0;34m(\u001b[0m\u001b[0mwhite_bars\u001b[0m\u001b[0;34m,\u001b[0m \u001b[0mcv2\u001b[0m\u001b[0;34m.\u001b[0m\u001b[0mCOLOR_BGR2GRAY\u001b[0m\u001b[0;34m)\u001b[0m\u001b[0;34m\u001b[0m\u001b[0;34m\u001b[0m\u001b[0m\n\u001b[0m\u001b[1;32m     24\u001b[0m \u001b[0mplt\u001b[0m\u001b[0;34m.\u001b[0m\u001b[0mimshow\u001b[0m\u001b[0;34m(\u001b[0m\u001b[0mwhite_bars\u001b[0m\u001b[0;34m,\u001b[0m\u001b[0mcmap\u001b[0m\u001b[0;34m=\u001b[0m\u001b[0;34m\"gray\"\u001b[0m\u001b[0;34m)\u001b[0m\u001b[0;34m\u001b[0m\u001b[0;34m\u001b[0m\u001b[0m\n\u001b[1;32m     25\u001b[0m \u001b[0mplt\u001b[0m\u001b[0;34m.\u001b[0m\u001b[0mshow\u001b[0m\u001b[0;34m(\u001b[0m\u001b[0;34m)\u001b[0m\u001b[0;34m\u001b[0m\u001b[0;34m\u001b[0m\u001b[0m\n",
      "\u001b[0;31merror\u001b[0m: OpenCV(4.1.1) /io/opencv/modules/imgproc/src/color.cpp:182: error: (-215:Assertion failed) !_src.empty() in function 'cvtColor'\n"
     ]
    }
   ],
   "source": [
    "array1 = [1,2,1]\n",
    "array2 = [2,3,2]\n",
    "array3 = [1,2,1]\n",
    "kernal = np.array([array1,array2,array3])\n",
    "\n",
    "\n",
    "\n",
    "\n",
    "# array1 = [1,2,3,4,5]\n",
    "# array2 = [6,7,8,9,10]\n",
    "# array3 = [11,12,13,14,15]\n",
    "# array4 = [16,17,18,19,20]\n",
    "# array5 = [21,22,23,24,25]\n",
    "\n",
    "# kernal = np.matrix([array1,array2,array3,array4,array5])\n",
    "# histogram(white_bars)\n",
    "\n",
    "\n",
    "\n",
    "\n",
    "\n",
    "white_bars = cv2.imread(\"/home/ahmed/Downloads/dip/DIP_A2_Fall2019/White-Bars.png\")\n",
    "white_bars = cv2.cvtColor(white_bars, cv2.COLOR_BGR2GRAY)\n",
    "plt.imshow(white_bars,cmap=\"gray\")\n",
    "plt.show()\n",
    "histogram(white_bars)\n",
    "print(white_bars)\n",
    "a = 1\n",
    "b = 1\n",
    "result = matrix_convolve2(white_bars,kernal,a,b,(1/9))\n",
    "\n",
    "plt.imshow(result.astype(np.uint8),cmap='gray')\n",
    "plt.show()\n",
    "# histogram(white_bars)\n",
    "histogram(result)"
   ]
  },
  {
   "cell_type": "code",
   "execution_count": 19,
   "metadata": {},
   "outputs": [
    {
     "ename": "ZeroDivisionError",
     "evalue": "float division by zero",
     "output_type": "error",
     "traceback": [
      "\u001b[0;31m---------------------------------------------------------------------------\u001b[0m",
      "\u001b[0;31mZeroDivisionError\u001b[0m                         Traceback (most recent call last)",
      "\u001b[0;32m<ipython-input-19-67b6bcdebfbf>\u001b[0m in \u001b[0;36m<module>\u001b[0;34m\u001b[0m\n\u001b[0;32m----> 1\u001b[0;31m \u001b[0;36m3\u001b[0m\u001b[0;34m/\u001b[0m\u001b[0;36m0.0\u001b[0m\u001b[0;34m\u001b[0m\u001b[0;34m\u001b[0m\u001b[0m\n\u001b[0m",
      "\u001b[0;31mZeroDivisionError\u001b[0m: float division by zero"
     ]
    }
   ],
   "source": [
    "3/0.0"
   ]
  },
  {
   "cell_type": "code",
   "execution_count": null,
   "metadata": {},
   "outputs": [],
   "source": []
  }
 ],
 "metadata": {
  "kernelspec": {
   "display_name": "Python 3",
   "language": "python",
   "name": "python3"
  },
  "language_info": {
   "codemirror_mode": {
    "name": "ipython",
    "version": 3
   },
   "file_extension": ".py",
   "mimetype": "text/x-python",
   "name": "python",
   "nbconvert_exporter": "python",
   "pygments_lexer": "ipython3",
   "version": "3.6.8"
  }
 },
 "nbformat": 4,
 "nbformat_minor": 2
}
