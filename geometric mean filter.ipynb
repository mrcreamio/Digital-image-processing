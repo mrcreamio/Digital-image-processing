{
 "cells": [
  {
   "cell_type": "code",
   "execution_count": 5,
   "metadata": {},
   "outputs": [],
   "source": [
    "import numpy as np\n",
    "import cv2\n",
    "import matplotlib.pyplot as plt\n",
    "%matplotlib inline\n",
    "import copy\n",
    "import math"
   ]
  },
  {
   "cell_type": "code",
   "execution_count": 6,
   "metadata": {},
   "outputs": [],
   "source": [
    "def matrix_convolve2(image,kernel,a,b,mul):\n",
    "    print(kernel)\n",
    "    img_x, img_y = image.shape\n",
    "    print(image.shape)\n",
    "    kernl_x, kernl_y = kernel.shape\n",
    "    print(int(len(kernal)/2))\n",
    "    result = copy.deepcopy(image)\n",
    "    print(image[1,1])\n",
    "    for i in range(1,(img_x-1)-int(len(kernel)/2)):\n",
    "        for j in range(1,(img_y-1)-int(len(kernel)/2)):\n",
    "            array = []\n",
    "#             print(i,j)\n",
    "\n",
    "            \n",
    "            for s in range(-a,a+1):\n",
    "                summ = 1\n",
    "                for t in range(-b,b+1):\n",
    "#                     print(\"i = \",i,\" j = \",j,i+s, j+t)\n",
    "                    array.append(image[i+s,j+t])\n",
    "                    if(math.isnan(image[i+s,j+t])):\n",
    "                        pass\n",
    "                    else:\n",
    "                        summ *= image[i+s,j+t]\n",
    "            \n",
    "#             print(array)\n",
    "#                 print(summ**mul)\n",
    "            result[i,j] = int(summ**mul)\n",
    "                \n",
    "    return result\n",
    "def histogram(img):\n",
    "    plt.hist(img.ravel(),256,[0,256]) \n",
    "    plt.plot\n",
    "    plt.show()\n",
    "\n",
    "    "
   ]
  },
  {
   "cell_type": "code",
   "execution_count": 8,
   "metadata": {},
   "outputs": [
    {
     "data": {
      "image/png": "[encoded data removed]",
      "text/plain": [
       "<Figure size 432x288 with 1 Axes>"
      ]
     },
     "metadata": {
      "needs_background": "light"
     },
     "output_type": "display_data"
    },
    {
     "data": {
      "image/png": "[encoded data removed]",
      "text/plain": [
       "<Figure size 432x288 with 1 Axes>"
      ]
     },
     "metadata": {
      "needs_background": "light"
     },
     "output_type": "display_data"
    },
    {
     "name": "stdout",
     "output_type": "stream",
     "text": [
      "[[0 0 0 ... 0 0 0]\n",
      " [0 0 0 ... 0 0 0]\n",
      " [0 0 0 ... 0 0 0]\n",
      " ...\n",
      " [0 0 0 ... 0 0 0]\n",
      " [0 0 0 ... 0 0 0]\n",
      " [0 0 0 ... 0 0 0]]\n",
      "[[ 1  2  3  4  5]\n",
      " [ 6  7  8  9 10]\n",
      " [11 12 13 14 15]\n",
      " [16 17 18 19 20]\n",
      " [21 22 23 24 25]]\n",
      "(589, 590)\n",
      "2\n",
      "0\n"
     ]
    },
    {
     "data": {
      "image/png": "[encoded data removed]",
      "text/plain": [
       "<Figure size 432x288 with 1 Axes>"
      ]
     },
     "metadata": {
      "needs_background": "light"
     },
     "output_type": "display_data"
    },
    {
     "data": {
      "image/png": "[encoded data removed]",
      "text/plain": [
       "<Figure size 432x288 with 1 Axes>"
      ]
     },
     "metadata": {
      "needs_background": "light"
     },
     "output_type": "display_data"
    }
   ],
   "source": [
    "# array1 = [1,2,1]\n",
    "# array2 = [2,3,2]\n",
    "# array3 = [1,2,1]\n",
    "# kernal = np.array([array1,array2,array3])\n",
    "\n",
    "\n",
    "\n",
    "\n",
    "array1 = [1,2,3,4,5]\n",
    "array2 = [6,7,8,9,10]\n",
    "array3 = [11,12,13,14,15]\n",
    "array4 = [16,17,18,19,20]\n",
    "array5 = [21,22,23,24,25]\n",
    "\n",
    "kernal = np.matrix([array1,array2,array3,array4,array5])\n",
    "# histogram(white_bars)\n",
    "\n",
    "\n",
    "\n",
    "\n",
    "\n",
    "white_bars = cv2.imread(\"/home/ahmed/Downloads/dip/DIP_A1_Fall2019/White-Bars.png\")\n",
    "white_bars = cv2.cvtColor(white_bars, cv2.COLOR_BGR2GRAY)\n",
    "plt.imshow(white_bars,cmap=\"gray\")\n",
    "plt.show()\n",
    "histogram(white_bars)\n",
    "print(white_bars)\n",
    "a = 2\n",
    "b = 2\n",
    "result = matrix_convolve2(white_bars,kernal,a,b,(1/9))\n",
    "\n",
    "plt.imshow(result.astype(np.uint8),cmap='gray')\n",
    "plt.show()\n",
    "# histogram(white_bars)\n",
    "histogram(result)"
   ]
  },
  {
   "cell_type": "code",
   "execution_count": 4,
   "metadata": {},
   "outputs": [
    {
     "name": "stdout",
     "output_type": "stream",
     "text": [
      "[[1 1 1 1 1 1 1 1 1 1 1]\n",
      " [1 1 1 1 1 1 1 1 1 1 1]\n",
      " [1 1 1 1 1 1 1 1 1 1 1]\n",
      " [1 1 1 1 1 1 1 1 1 1 1]\n",
      " [1 1 1 1 1 1 1 1 1 1 1]\n",
      " [1 1 1 1 1 1 1 1 1 1 1]\n",
      " [1 1 1 1 1 1 1 1 1 1 1]\n",
      " [1 1 1 1 1 1 1 1 1 1 1]\n",
      " [1 1 1 1 1 1 1 1 1 1 1]\n",
      " [1 1 1 1 1 1 1 1 1 1 1]\n",
      " [1 1 1 1 1 1 1 1 1 1 1]]\n"
     ]
    },
    {
     "ename": "AttributeError",
     "evalue": "'NoneType' object has no attribute 'shape'",
     "output_type": "error",
     "traceback": [
      "\u001b[0;31m---------------------------------------------------------------------------\u001b[0m",
      "\u001b[0;31mAttributeError\u001b[0m                            Traceback (most recent call last)",
      "\u001b[0;32m<ipython-input-4-c897a2667912>\u001b[0m in \u001b[0;36m<module>\u001b[0;34m\u001b[0m\n\u001b[1;32m     13\u001b[0m \u001b[0ma\u001b[0m \u001b[0;34m=\u001b[0m \u001b[0;36m5\u001b[0m\u001b[0;34m\u001b[0m\u001b[0;34m\u001b[0m\u001b[0m\n\u001b[1;32m     14\u001b[0m \u001b[0mb\u001b[0m \u001b[0;34m=\u001b[0m \u001b[0;36m5\u001b[0m\u001b[0;34m\u001b[0m\u001b[0;34m\u001b[0m\u001b[0m\n\u001b[0;32m---> 15\u001b[0;31m \u001b[0mresult\u001b[0m \u001b[0;34m=\u001b[0m \u001b[0mmatrix_convolve2\u001b[0m\u001b[0;34m(\u001b[0m\u001b[0mwhite_bars\u001b[0m\u001b[0;34m,\u001b[0m\u001b[0mkernal\u001b[0m\u001b[0;34m,\u001b[0m\u001b[0ma\u001b[0m\u001b[0;34m,\u001b[0m\u001b[0mb\u001b[0m\u001b[0;34m,\u001b[0m\u001b[0;34m(\u001b[0m\u001b[0;36m1\u001b[0m\u001b[0;34m/\u001b[0m\u001b[0;36m121\u001b[0m\u001b[0;34m)\u001b[0m\u001b[0;34m)\u001b[0m\u001b[0;34m\u001b[0m\u001b[0;34m\u001b[0m\u001b[0m\n\u001b[0m\u001b[1;32m     16\u001b[0m \u001b[0mplt\u001b[0m\u001b[0;34m.\u001b[0m\u001b[0mimshow\u001b[0m\u001b[0;34m(\u001b[0m\u001b[0mresult\u001b[0m\u001b[0;34m.\u001b[0m\u001b[0mastype\u001b[0m\u001b[0;34m(\u001b[0m\u001b[0mnp\u001b[0m\u001b[0;34m.\u001b[0m\u001b[0muint8\u001b[0m\u001b[0;34m)\u001b[0m\u001b[0;34m,\u001b[0m\u001b[0mcmap\u001b[0m\u001b[0;34m=\u001b[0m\u001b[0;34m'gray'\u001b[0m\u001b[0;34m)\u001b[0m\u001b[0;34m\u001b[0m\u001b[0;34m\u001b[0m\u001b[0m\n\u001b[1;32m     17\u001b[0m \u001b[0mplt\u001b[0m\u001b[0;34m.\u001b[0m\u001b[0mshow\u001b[0m\u001b[0;34m(\u001b[0m\u001b[0;34m)\u001b[0m\u001b[0;34m\u001b[0m\u001b[0;34m\u001b[0m\u001b[0m\n",
      "\u001b[0;32m<ipython-input-2-d59c3b3e6952>\u001b[0m in \u001b[0;36mmatrix_convolve2\u001b[0;34m(image, kernel, a, b, mul)\u001b[0m\n\u001b[1;32m      1\u001b[0m \u001b[0;32mdef\u001b[0m \u001b[0mmatrix_convolve2\u001b[0m\u001b[0;34m(\u001b[0m\u001b[0mimage\u001b[0m\u001b[0;34m,\u001b[0m\u001b[0mkernel\u001b[0m\u001b[0;34m,\u001b[0m\u001b[0ma\u001b[0m\u001b[0;34m,\u001b[0m\u001b[0mb\u001b[0m\u001b[0;34m,\u001b[0m\u001b[0mmul\u001b[0m\u001b[0;34m)\u001b[0m\u001b[0;34m:\u001b[0m\u001b[0;34m\u001b[0m\u001b[0;34m\u001b[0m\u001b[0m\n\u001b[1;32m      2\u001b[0m     \u001b[0mprint\u001b[0m\u001b[0;34m(\u001b[0m\u001b[0mkernel\u001b[0m\u001b[0;34m)\u001b[0m\u001b[0;34m\u001b[0m\u001b[0;34m\u001b[0m\u001b[0m\n\u001b[0;32m----> 3\u001b[0;31m     \u001b[0mimg_x\u001b[0m\u001b[0;34m,\u001b[0m \u001b[0mimg_y\u001b[0m \u001b[0;34m=\u001b[0m \u001b[0mimage\u001b[0m\u001b[0;34m.\u001b[0m\u001b[0mshape\u001b[0m\u001b[0;34m\u001b[0m\u001b[0;34m\u001b[0m\u001b[0m\n\u001b[0m\u001b[1;32m      4\u001b[0m     \u001b[0mprint\u001b[0m\u001b[0;34m(\u001b[0m\u001b[0mimage\u001b[0m\u001b[0;34m.\u001b[0m\u001b[0mshape\u001b[0m\u001b[0;34m)\u001b[0m\u001b[0;34m\u001b[0m\u001b[0;34m\u001b[0m\u001b[0m\n\u001b[1;32m      5\u001b[0m     \u001b[0mkernl_x\u001b[0m\u001b[0;34m,\u001b[0m \u001b[0mkernl_y\u001b[0m \u001b[0;34m=\u001b[0m \u001b[0mkernel\u001b[0m\u001b[0;34m.\u001b[0m\u001b[0mshape\u001b[0m\u001b[0;34m\u001b[0m\u001b[0;34m\u001b[0m\u001b[0m\n",
      "\u001b[0;31mAttributeError\u001b[0m: 'NoneType' object has no attribute 'shape'"
     ]
    }
   ],
   "source": [
    "array1 = [1,1,1,1,1,1,1,1,1,1,1]\n",
    "array2 = [1,1,1,1,1,1,1,1,1,1,1]\n",
    "array3 = [1,1,1,1,1,1,1,1,1,1,1]\n",
    "array4 = [1,1,1,1,1,1,1,1,1,1,1]\n",
    "array5 = [1,1,1,1,1,1,1,1,1,1,1]\n",
    "array6 = [1,1,1,1,1,1,1,1,1,1,1]\n",
    "array7 = [1,1,1,1,1,1,1,1,1,1,1]\n",
    "array8 = [1,1,1,1,1,1,1,1,1,1,1]\n",
    "array9 = [1,1,1,1,1,1,1,1,1,1,1]\n",
    "array10 = [1,1,1,1,1,1,1,1,1,1,1]\n",
    "array11 = [1,1,1,1,1,1,1,1,1,1,1]\n",
    "kernal = np.matrix([array1,array2,array3,array4,array5,array6,array7,array8,array9,array10,array11])\n",
    "a = 5\n",
    "b = 5\n",
    "result = matrix_convolve2(white_bars,kernal,a,b,(1/121))\n",
    "plt.imshow(result.astype(np.uint8),cmap='gray')\n",
    "plt.show()\n",
    "histogram(white_bars)\n",
    "histogram(result)"
   ]
  },
  {
   "cell_type": "code",
   "execution_count": 88,
   "metadata": {},
   "outputs": [],
   "source": [
    "array1 = [1,2,3,4,5]\n",
    "array2 = [6,7,8,9,10]\n",
    "array3 = [11,12,13,14,15]\n",
    "array4 = [16,17,18,19,20]\n",
    "array5 = [21,22,23,24,25]\n",
    "\n",
    "image = np.matrix([array1,array2,array3,array4,array5])"
   ]
  },
  {
   "cell_type": "code",
   "execution_count": 147,
   "metadata": {},
   "outputs": [
    {
     "data": {
      "text/plain": [
       "5"
      ]
     },
     "execution_count": 147,
     "metadata": {},
     "output_type": "execute_result"
    }
   ],
   "source": [
    "len(image)"
   ]
  },
  {
   "cell_type": "code",
   "execution_count": 129,
   "metadata": {},
   "outputs": [
    {
     "data": {
      "text/plain": [
       "2.3627637482147423"
      ]
     },
     "execution_count": 129,
     "metadata": {},
     "output_type": "execute_result"
    }
   ],
   "source": [
    "2295**(1/9)"
   ]
  },
  {
   "cell_type": "code",
   "execution_count": null,
   "metadata": {},
   "outputs": [],
   "source": []
  }
 ],
 "metadata": {
  "kernelspec": {
   "display_name": "Python 3",
   "language": "python",
   "name": "python3"
  },
  "language_info": {
   "codemirror_mode": {
    "name": "ipython",
    "version": 3
   },
   "file_extension": ".py",
   "mimetype": "text/x-python",
   "name": "python",
   "nbconvert_exporter": "python",
   "pygments_lexer": "ipython3",
   "version": "3.6.8"
  }
 },
 "nbformat": 4,
 "nbformat_minor": 2
}
