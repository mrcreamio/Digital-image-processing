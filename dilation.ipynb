{
 "cells": [
  {
   "cell_type": "code",
   "execution_count": 75,
   "metadata": {},
   "outputs": [],
   "source": [
    "import numpy as np\n",
    "import cv2\n",
    "import matplotlib.pyplot as plt\n",
    "%matplotlib inline\n",
    "import copy\n",
    "import math\n",
    "from tkinter import *"
   ]
  },
  {
   "cell_type": "code",
   "execution_count": 86,
   "metadata": {},
   "outputs": [],
   "source": [
    "def flat(list1):\n",
    "    for i in list1:\n",
    "        for j in i:\n",
    "            if (j != 1 and j != 0):\n",
    "                return False\n",
    "    return True\n",
    "def match(img, ker):\n",
    "    counter = 0\n",
    "    for i in range(len(img)):\n",
    "        for j in range(len(img)):\n",
    "            if img[counter] == ker[i][j]:\n",
    "                counter+=1\n",
    "                return True\n",
    "            else:\n",
    "                counter+=1\n",
    "    else:\n",
    "        return False\n",
    "    \n",
    "def oneD(nested):\n",
    "    flat = [x for sublist in nested for x in sublist]\n",
    "    return flat\n",
    "def dilation(image,kernel,a,b):\n",
    "    ker = kernel.tolist()\n",
    "    imgL = image.tolist()\n",
    "    img_x, img_y = image.shape\n",
    "    kernl_x, kernl_y = kernel.shape\n",
    "    result = copy.deepcopy(image)\n",
    "    for i in range(1,(img_x)-int(len(kernel)/2)):\n",
    "        for j in range(1,(img_y)-int(len(kernel)/2)):\n",
    "            array = []\n",
    "            for s in range(-a,a+1):\n",
    "                for t in range(-b,b+1):\n",
    "                    array.append(image[i+s,j+t])\n",
    "            if(flat(kernel)):\n",
    "                if(flat(imgL)):\n",
    "#                     print(\"kernal is flat and image is binary\")\n",
    "                    if(match(array,ker)): #if any one element matched it will write 1 on its place\n",
    "                        result[i,j] = 1\n",
    "                    else:\n",
    "                        result[i,j] = 0\n",
    "                else:\n",
    "#                     print(\"kernal is flat and image is grey scale\")\n",
    "                    maxi = max(array) # maximum number from the kernal will be placed on the interest point\n",
    "                    result[i,j] = maxi\n",
    "            else:\n",
    "#                 print(\"kernal is non flat\")\n",
    "                res_list = [sum(i) for i in zip(array,oneD(ker))]  #adding kenal and window elements of image\n",
    "                maxi = max(res_list)\n",
    "                result[i,j] = maxi\n",
    "                \n",
    "\n",
    "                \n",
    "    return result\n",
    "\n",
    "    "
   ]
  },
  {
   "cell_type": "code",
   "execution_count": 88,
   "metadata": {
    "scrolled": false
   },
   "outputs": [
    {
     "name": "stdout",
     "output_type": "stream",
     "text": [
      "the kernal is: \n",
      "[[1 1 1]\n",
      " [1 0 1]\n",
      " [1 1 1]]\n",
      "the image is\n",
      "[[1 1 1 0 1]\n",
      " [1 3 1 0 1]\n",
      " [1 0 0 1 1]\n",
      " [0 0 1 1 0]\n",
      " [1 0 1 0 1]]\n",
      "result\n",
      "[[1 1 1 0 1]\n",
      " [1 3 3 1 1]\n",
      " [1 3 3 1 1]\n",
      " [0 1 1 1 0]\n",
      " [1 0 1 0 1]]\n"
     ]
    }
   ],
   "source": [
    "array1 = [1,1,1]\n",
    "array2 = [1,0,1]\n",
    "array3 = [1,1,1]\n",
    "kernal = np.array([array1,array2,array3])\n",
    "\n",
    "ker = kernal.tolist()\n",
    "# array1 = [1,2,3,4,5]\n",
    "# array2 = [6,7,8,9,10]\n",
    "# array3 = [11,12,13,14,15]\n",
    "# array4 = [16,17,18,19,20]\n",
    "# array5 = [21,22,23,24,25]\n",
    "array1 = [1,1,1,0,1]\n",
    "array2 = [1,3,1,0,1]\n",
    "array3 = [1,0,0,1,1]\n",
    "array4 = [0,0,1,1,0]\n",
    "array5 = [1,0,1,0,1]\n",
    "\n",
    "image = np.matrix([array1,array2,array3,array4,array5])\n",
    "# histogram(white_bars)\n",
    "\n",
    "\n",
    "\n",
    "# white_bars = cv2.imread(\"/home/ahmed/Downloads/dip/DIP_A1_Fall2019/White-Bars.png\")\n",
    "# white_bars = cv2.cvtColor(white_bars, cv2.COLOR_BGR2GRAY)\n",
    "# plt.imshow(white_bars,cmap=\"gray\")\n",
    "# plt.show()\n",
    "# histogram(white_bars)\n",
    "# print(white_bars)\n",
    "a = 1\n",
    "b = 1\n",
    "print(\"the kernal is: \")\n",
    "print(kernal)\n",
    "print(\"the image is\")\n",
    "print(image)\n",
    "result = dilation(image,kernal,a,b)\n",
    "# plt.imshow(result.astype(np.uint8),cmap='gray')\n",
    "# plt.show()\n",
    "print(\"result\")\n",
    "print(result)\n",
    "# histogram(white_bars)\n",
    "# histogram(result)"
   ]
  },
  {
   "cell_type": "code",
   "execution_count": 89,
   "metadata": {},
   "outputs": [],
   "source": [
    "def match(img, ker):\n",
    "    print(img,ker)\n",
    "    for i in range(len(img)):\n",
    "        for j in range(len(img)):\n",
    "            if img[i][j] == ker[i][j]:\n",
    "                print(img[i][j],\"==\",ker[i][j])\n",
    "                print(\"matched...\")\n",
    "                return True\n",
    "    else:\n",
    "        return False"
   ]
  },
  {
   "cell_type": "code",
   "execution_count": null,
   "metadata": {},
   "outputs": [],
   "source": []
  },
  {
   "cell_type": "code",
   "execution_count": 70,
   "metadata": {},
   "outputs": [
    {
     "name": "stdout",
     "output_type": "stream",
     "text": [
      "[[1, 1, 1], [1, 1, 1], [1, 1, 1]]\n",
      "[1, 2, 3, 4, 5, 1, 7, 1, 9]\n",
      "1  a  1\n",
      "True\n",
      "2  a  1\n",
      "False\n",
      "3  a  1\n",
      "False\n",
      "4  a  1\n",
      "False\n",
      "5  a  1\n",
      "False\n",
      "1  a  1\n",
      "True\n",
      "7  a  1\n",
      "False\n",
      "1  a  1\n",
      "True\n",
      "9  a  1\n",
      "False\n"
     ]
    }
   ],
   "source": [
    "array1 = [1,1,1]\n",
    "array2 = [1,1,1]\n",
    "array3 = [1,1,1]\n",
    "kernal = np.array([array1,array2,array3])\n",
    "\n",
    "ker = kernal.tolist()\n",
    "print(ker)\n",
    "z = [1,2,3,4,5,1,7,1,9]\n",
    "print(z)\n",
    "counter = 0\n",
    "for i in range(len(ker)):\n",
    "    for j in range(len(ker)):\n",
    "        print(z[counter],\" a \" ,ker[i][j])\n",
    "        print(z[counter] == ker[i][j])\n",
    "        counter+=1"
   ]
  },
  {
   "cell_type": "code",
   "execution_count": 6,
   "metadata": {},
   "outputs": [
    {
     "ename": "TypeError",
     "evalue": "unsupported operand type(s) for +: 'int' and 'tuple'",
     "output_type": "error",
     "traceback": [
      "\u001b[0;31m---------------------------------------------------------------------------\u001b[0m",
      "\u001b[0;31mTypeError\u001b[0m                                 Traceback (most recent call last)",
      "\u001b[0;32m<ipython-input-6-3bc86325cd41>\u001b[0m in \u001b[0;36m<module>\u001b[0;34m\u001b[0m\n\u001b[0;32m----> 1\u001b[0;31m \u001b[0ma\u001b[0m \u001b[0;34m=\u001b[0m \u001b[0;34m[\u001b[0m\u001b[0msum\u001b[0m\u001b[0;34m(\u001b[0m\u001b[0ma\u001b[0m\u001b[0;34m)\u001b[0m \u001b[0;32mfor\u001b[0m \u001b[0mi\u001b[0m \u001b[0;32min\u001b[0m \u001b[0;34m(\u001b[0m\u001b[0mzip\u001b[0m\u001b[0;34m(\u001b[0m\u001b[0;34m[\u001b[0m\u001b[0;36m1\u001b[0m\u001b[0;34m,\u001b[0m\u001b[0;36m2\u001b[0m\u001b[0;34m,\u001b[0m\u001b[0;36m3\u001b[0m\u001b[0;34m,\u001b[0m\u001b[0;36m11\u001b[0m\u001b[0;34m,\u001b[0m\u001b[0;36m4\u001b[0m\u001b[0;34m]\u001b[0m\u001b[0;34m,\u001b[0m\u001b[0;34m[\u001b[0m\u001b[0;36m1\u001b[0m\u001b[0;34m,\u001b[0m\u001b[0;36m2\u001b[0m\u001b[0;34m,\u001b[0m\u001b[0;36m3\u001b[0m\u001b[0;34m,\u001b[0m\u001b[0;36m5\u001b[0m\u001b[0;34m,\u001b[0m\u001b[0;36m6\u001b[0m\u001b[0;34m]\u001b[0m\u001b[0;34m)\u001b[0m\u001b[0;34m)\u001b[0m\u001b[0;34m]\u001b[0m\u001b[0;34m\u001b[0m\u001b[0;34m\u001b[0m\u001b[0m\n\u001b[0m\u001b[1;32m      2\u001b[0m \u001b[0mprint\u001b[0m\u001b[0;34m(\u001b[0m\u001b[0ma\u001b[0m\u001b[0;34m)\u001b[0m\u001b[0;34m\u001b[0m\u001b[0;34m\u001b[0m\u001b[0m\n",
      "\u001b[0;32m<ipython-input-6-3bc86325cd41>\u001b[0m in \u001b[0;36m<listcomp>\u001b[0;34m(.0)\u001b[0m\n\u001b[0;32m----> 1\u001b[0;31m \u001b[0ma\u001b[0m \u001b[0;34m=\u001b[0m \u001b[0;34m[\u001b[0m\u001b[0msum\u001b[0m\u001b[0;34m(\u001b[0m\u001b[0ma\u001b[0m\u001b[0;34m)\u001b[0m \u001b[0;32mfor\u001b[0m \u001b[0mi\u001b[0m \u001b[0;32min\u001b[0m \u001b[0;34m(\u001b[0m\u001b[0mzip\u001b[0m\u001b[0;34m(\u001b[0m\u001b[0;34m[\u001b[0m\u001b[0;36m1\u001b[0m\u001b[0;34m,\u001b[0m\u001b[0;36m2\u001b[0m\u001b[0;34m,\u001b[0m\u001b[0;36m3\u001b[0m\u001b[0;34m,\u001b[0m\u001b[0;36m11\u001b[0m\u001b[0;34m,\u001b[0m\u001b[0;36m4\u001b[0m\u001b[0;34m]\u001b[0m\u001b[0;34m,\u001b[0m\u001b[0;34m[\u001b[0m\u001b[0;36m1\u001b[0m\u001b[0;34m,\u001b[0m\u001b[0;36m2\u001b[0m\u001b[0;34m,\u001b[0m\u001b[0;36m3\u001b[0m\u001b[0;34m,\u001b[0m\u001b[0;36m5\u001b[0m\u001b[0;34m,\u001b[0m\u001b[0;36m6\u001b[0m\u001b[0;34m]\u001b[0m\u001b[0;34m)\u001b[0m\u001b[0;34m)\u001b[0m\u001b[0;34m]\u001b[0m\u001b[0;34m\u001b[0m\u001b[0;34m\u001b[0m\u001b[0m\n\u001b[0m\u001b[1;32m      2\u001b[0m \u001b[0mprint\u001b[0m\u001b[0;34m(\u001b[0m\u001b[0ma\u001b[0m\u001b[0;34m)\u001b[0m\u001b[0;34m\u001b[0m\u001b[0;34m\u001b[0m\u001b[0m\n",
      "\u001b[0;31mTypeError\u001b[0m: unsupported operand type(s) for +: 'int' and 'tuple'"
     ]
    }
   ],
   "source": []
  },
  {
   "cell_type": "code",
   "execution_count": 10,
   "metadata": {},
   "outputs": [],
   "source": [
    "img_dilation = cv2.dilate(white_bars, kernal, iterations=1)"
   ]
  },
  {
   "cell_type": "code",
   "execution_count": 11,
   "metadata": {},
   "outputs": [
    {
     "data": {
      "image/png": "[encoded data removed]",
      "text/plain": [
       "<Figure size 432x288 with 1 Axes>"
      ]
     },
     "metadata": {
      "needs_background": "light"
     },
     "output_type": "display_data"
    }
   ],
   "source": [
    "plt.imshow(img_dilation.astype(np.uint8),cmap='gray')\n",
    "plt.show()"
   ]
  },
  {
   "cell_type": "code",
   "execution_count": 26,
   "metadata": {},
   "outputs": [
    {
     "name": "stdout",
     "output_type": "stream",
     "text": [
      "-38\n"
     ]
    }
   ],
   "source": [
    "a = zip([1,2,3,4],[12,22,32,42])  \n",
    "a = set(a)\n",
    "a\n",
    "def sub(ziped):\n",
    "    ret = []\n",
    "    for i in ziped:\n",
    "        ret.append(i[0]-i[1])\n",
    "    return ret\n",
    "print(min(sub(a)))\n",
    "    "
   ]
  },
  {
   "cell_type": "code",
   "execution_count": 22,
   "metadata": {},
   "outputs": [
    {
     "name": "stdout",
     "output_type": "stream",
     "text": [
      "1\n",
      "2\n",
      "3\n",
      "4\n"
     ]
    }
   ],
   "source": [
    "res_list = [print(i[0]) for i in zip([1,2,3,4],[1,2,3,4])]"
   ]
  },
  {
   "cell_type": "code",
   "execution_count": 14,
   "metadata": {},
   "outputs": [
    {
     "data": {
      "text/plain": [
       "[2, 4, 6, 8]"
      ]
     },
     "execution_count": 14,
     "metadata": {},
     "output_type": "execute_result"
    }
   ],
   "source": [
    "res_list"
   ]
  },
  {
   "cell_type": "code",
   "execution_count": null,
   "metadata": {},
   "outputs": [],
   "source": []
  }
 ],
 "metadata": {
  "kernelspec": {
   "display_name": "Python 3",
   "language": "python",
   "name": "python3"
  },
  "language_info": {
   "codemirror_mode": {
    "name": "ipython",
    "version": 3
   },
   "file_extension": ".py",
   "mimetype": "text/x-python",
   "name": "python",
   "nbconvert_exporter": "python",
   "pygments_lexer": "ipython3",
   "version": "3.6.8"
  }
 },
 "nbformat": 4,
 "nbformat_minor": 2
}
